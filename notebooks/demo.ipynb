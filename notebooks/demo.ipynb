{
 "cells": [
  {
   "cell_type": "markdown",
   "id": "47a1f69a",
   "metadata": {},
   "source": [
    "# `pandas-decimal`\n",
    "\n",
    "https://github.com/martindurant/pandas-decimal\n"
   ]
  },
  {
   "cell_type": "code",
   "execution_count": null,
   "id": "db4e86ed",
   "metadata": {},
   "outputs": [],
   "source": [
    "import pandas as pd\n",
    "import pandas_decimal"
   ]
  },
  {
   "cell_type": "code",
   "execution_count": null,
   "id": "01929169",
   "metadata": {},
   "outputs": [],
   "source": [
    "s = pd.Series([0.1, 0.1, 0.1], dtype=\"decimal[1]\")\n",
    "s2 = pd.Series([0.1, 0.1, 0.1])"
   ]
  },
  {
   "cell_type": "code",
   "execution_count": null,
   "id": "14d6d094",
   "metadata": {},
   "outputs": [],
   "source": [
    "s2.sum()"
   ]
  },
  {
   "cell_type": "code",
   "execution_count": null,
   "id": "2faaa6e2",
   "metadata": {},
   "outputs": [],
   "source": [
    "s.sum()"
   ]
  },
  {
   "cell_type": "code",
   "execution_count": null,
   "id": "fe9fecbb",
   "metadata": {},
   "outputs": [],
   "source": [
    "import decimal"
   ]
  },
  {
   "cell_type": "code",
   "execution_count": null,
   "id": "cc37a2e8",
   "metadata": {},
   "outputs": [],
   "source": [
    "s = pd.Series([0.1, 0.1, 0.1] * 1000_000, dtype=\"decimal[1]\")\n",
    "dl = pd.Series([decimal.Decimal(str(_)) for _ in s])"
   ]
  },
  {
   "cell_type": "code",
   "execution_count": null,
   "id": "07d32c6b",
   "metadata": {},
   "outputs": [],
   "source": [
    "s.sum() == dl.sum()"
   ]
  },
  {
   "cell_type": "code",
   "execution_count": null,
   "id": "5803f06e",
   "metadata": {},
   "outputs": [],
   "source": [
    "%timeit s.sum()\n",
    "%timeit dl.sum()"
   ]
  },
  {
   "cell_type": "code",
   "execution_count": null,
   "id": "50c971b6",
   "metadata": {},
   "outputs": [],
   "source": [
    "s.info(memory_usage=\"deep\"), dl.info(memory_usage=\"deep\")"
   ]
  },
  {
   "cell_type": "markdown",
   "id": "0dfb1694",
   "metadata": {},
   "source": [
    "Supports:\n",
    "- arithmetic\n",
    "- unary ops\n",
    "- comparisons\n",
    "- conversions\n",
    "- correct representation"
   ]
  },
  {
   "cell_type": "code",
   "execution_count": null,
   "id": "4e30fbe2",
   "metadata": {},
   "outputs": [],
   "source": [
    "s3 = pd.Series([1, 2, 3])\n",
    "s3.astype(\"decimal[2]\")"
   ]
  },
  {
   "cell_type": "code",
   "execution_count": null,
   "id": "b3bde103",
   "metadata": {},
   "outputs": [],
   "source": []
  }
 ],
 "metadata": {
  "kernelspec": {
   "display_name": "Python 3 (ipykernel)",
   "language": "python",
   "name": "python3"
  },
  "language_info": {
   "codemirror_mode": {
    "name": "ipython",
    "version": 3
   },
   "file_extension": ".py",
   "mimetype": "text/x-python",
   "name": "python",
   "nbconvert_exporter": "python",
   "pygments_lexer": "ipython3",
   "version": "3.9.13"
  }
 },
 "nbformat": 4,
 "nbformat_minor": 5
}
